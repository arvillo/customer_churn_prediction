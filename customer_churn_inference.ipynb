{
 "cells": [
  {
   "attachments": {},
   "cell_type": "markdown",
   "metadata": {},
   "source": [
    "# Import Library"
   ]
  },
  {
   "cell_type": "code",
   "execution_count": 1,
   "metadata": {},
   "outputs": [],
   "source": [
    "# Import Libraries\n",
    "\n",
    "import joblib\n",
    "from tensorflow.keras.models import load_model\n",
    "import pandas as pd\n",
    "import numpy as np"
   ]
  },
  {
   "attachments": {},
   "cell_type": "markdown",
   "metadata": {},
   "source": [
    "# Load Model"
   ]
  },
  {
   "cell_type": "code",
   "execution_count": 2,
   "metadata": {},
   "outputs": [],
   "source": [
    "# Load All Models\n",
    "\n",
    "with open('preprocessor.pkl', 'rb') as file_1:\n",
    "  model_pipeline = joblib.load(file_1)\n",
    "\n",
    "model_ann = load_model('model_ann.h5')"
   ]
  },
  {
   "attachments": {},
   "cell_type": "markdown",
   "metadata": {},
   "source": [
    "# Inferencing"
   ]
  },
  {
   "cell_type": "code",
   "execution_count": 3,
   "metadata": {},
   "outputs": [
    {
     "data": {
      "text/html": [
       "<div>\n",
       "<style scoped>\n",
       "    .dataframe tbody tr th:only-of-type {\n",
       "        vertical-align: middle;\n",
       "    }\n",
       "\n",
       "    .dataframe tbody tr th {\n",
       "        vertical-align: top;\n",
       "    }\n",
       "\n",
       "    .dataframe thead th {\n",
       "        text-align: right;\n",
       "    }\n",
       "</style>\n",
       "<table border=\"1\" class=\"dataframe\">\n",
       "  <thead>\n",
       "    <tr style=\"text-align: right;\">\n",
       "      <th></th>\n",
       "      <th>user_id</th>\n",
       "      <th>age</th>\n",
       "      <th>gender</th>\n",
       "      <th>region_category</th>\n",
       "      <th>membership_category</th>\n",
       "      <th>joining_date</th>\n",
       "      <th>joined_through_referral</th>\n",
       "      <th>preferred_offer_types</th>\n",
       "      <th>medium_of_operation</th>\n",
       "      <th>internet_option</th>\n",
       "      <th>...</th>\n",
       "      <th>days_since_last_login</th>\n",
       "      <th>avg_time_spent</th>\n",
       "      <th>avg_transaction_value</th>\n",
       "      <th>avg_frequency_login_days</th>\n",
       "      <th>points_in_wallet</th>\n",
       "      <th>used_special_discount</th>\n",
       "      <th>offer_application_preference</th>\n",
       "      <th>past_complaint</th>\n",
       "      <th>complaint_status</th>\n",
       "      <th>feedback</th>\n",
       "    </tr>\n",
       "  </thead>\n",
       "  <tbody>\n",
       "    <tr>\n",
       "      <th>0</th>\n",
       "      <td>862d4c4f7a9415bf</td>\n",
       "      <td>15</td>\n",
       "      <td>F</td>\n",
       "      <td>Town</td>\n",
       "      <td>Gold Membership</td>\n",
       "      <td>2017-04-25</td>\n",
       "      <td>Yes</td>\n",
       "      <td>Gift Vouchers/Coupons</td>\n",
       "      <td>Smartphone</td>\n",
       "      <td>Wi-Fi</td>\n",
       "      <td>...</td>\n",
       "      <td>-999</td>\n",
       "      <td>32.58</td>\n",
       "      <td>11412.7</td>\n",
       "      <td>18.0</td>\n",
       "      <td>796.17</td>\n",
       "      <td>No</td>\n",
       "      <td>Yes</td>\n",
       "      <td>No</td>\n",
       "      <td>Not Applicable</td>\n",
       "      <td>Poor Product Quality</td>\n",
       "    </tr>\n",
       "  </tbody>\n",
       "</table>\n",
       "<p>1 rows × 21 columns</p>\n",
       "</div>"
      ],
      "text/plain": [
       "            user_id  age gender region_category membership_category   \n",
       "0  862d4c4f7a9415bf   15      F            Town     Gold Membership  \\\n",
       "\n",
       "  joining_date joined_through_referral  preferred_offer_types   \n",
       "0   2017-04-25                     Yes  Gift Vouchers/Coupons  \\\n",
       "\n",
       "  medium_of_operation internet_option  ... days_since_last_login   \n",
       "0          Smartphone           Wi-Fi  ...                  -999  \\\n",
       "\n",
       "   avg_time_spent  avg_transaction_value  avg_frequency_login_days   \n",
       "0           32.58                11412.7                      18.0  \\\n",
       "\n",
       "   points_in_wallet  used_special_discount offer_application_preference   \n",
       "0            796.17                     No                          Yes  \\\n",
       "\n",
       "  past_complaint complaint_status              feedback  \n",
       "0             No   Not Applicable  Poor Product Quality  \n",
       "\n",
       "[1 rows x 21 columns]"
      ]
     },
     "execution_count": 3,
     "metadata": {},
     "output_type": "execute_result"
    }
   ],
   "source": [
    "data_inf = {\n",
    "    'user_id': '862d4c4f7a9415bf',\n",
    "    'age': 15,\n",
    "    'gender': 'F',\n",
    "    'region_category': 'Town',\n",
    "    'membership_category': 'Gold Membership',\n",
    "    'joining_date': '2017-04-25',\n",
    "    'joined_through_referral': 'Yes',\n",
    "    'preferred_offer_types': 'Gift Vouchers/Coupons',\n",
    "    'medium_of_operation': 'Smartphone',\n",
    "    'internet_option': 'Wi-Fi',\n",
    "    'last_visit_time': '20:11:54',\n",
    "    'days_since_last_login': -999,\n",
    "    'avg_time_spent': 32.58,\n",
    "    'avg_transaction_value': 11412.7,\n",
    "    'avg_frequency_login_days': 18.0,\n",
    "    'points_in_wallet': 796.17,\n",
    "    'used_special_discount': 'No',\n",
    "    'offer_application_preference': 'Yes',\n",
    "    'past_complaint': 'No',\n",
    "    'complaint_status': 'Not Applicable',\n",
    "    'feedback': 'Poor Product Quality'\n",
    "}\n",
    "data_inf = pd.DataFrame([data_inf])\n",
    "data_inf"
   ]
  },
  {
   "cell_type": "code",
   "execution_count": 4,
   "metadata": {},
   "outputs": [
    {
     "name": "stdout",
     "output_type": "stream",
     "text": [
      "1/1 [==============================] - 0s 91ms/step\n",
      "This Customer is not churn\n"
     ]
    }
   ],
   "source": [
    "data_inf_transform = model_pipeline.transform(data_inf)\n",
    "y_pred_inf = model_ann.predict(data_inf_transform)\n",
    "y_pred_inf = np.where(y_pred_inf >= 0.5, 1, 0)\n",
    "if y_pred_inf[0] == 0:\n",
    "    print('This Customer is not churn')\n",
    "else:\n",
    "    print('This Customer is churn')"
   ]
  }
 ],
 "metadata": {
  "kernelspec": {
   "display_name": "base",
   "language": "python",
   "name": "python3"
  },
  "language_info": {
   "codemirror_mode": {
    "name": "ipython",
    "version": 3
   },
   "file_extension": ".py",
   "mimetype": "text/x-python",
   "name": "python",
   "nbconvert_exporter": "python",
   "pygments_lexer": "ipython3",
   "version": "3.10.12"
  },
  "orig_nbformat": 4
 },
 "nbformat": 4,
 "nbformat_minor": 2
}
